{
 "cells": [
  {
   "cell_type": "markdown",
   "id": "142995ac",
   "metadata": {},
   "source": [
    "### PA4, Paul Hyden, FA22"
   ]
  },
  {
   "cell_type": "code",
   "execution_count": 1,
   "id": "15b9a169",
   "metadata": {},
   "outputs": [
    {
     "name": "stdout",
     "output_type": "stream",
     "text": [
      "0\n",
      "3\n",
      "6\n",
      "9\n",
      "12\n",
      "15\n",
      "18\n",
      "21\n",
      "24\n",
      "27\n",
      "30\n",
      "33\n",
      "36\n",
      "39\n",
      "42\n",
      "45\n",
      "48\n",
      "51\n",
      "54\n",
      "57\n",
      "60\n",
      "63\n",
      "66\n",
      "69\n",
      "72\n",
      "75\n",
      "78\n",
      "81\n",
      "84\n",
      "87\n",
      "90\n",
      "93\n",
      "96\n",
      "99\n"
     ]
    }
   ],
   "source": [
    "for i in range(0,100):\n",
    "    if i % 3 == 0:\n",
    "       print(i);"
   ]
  },
  {
   "cell_type": "code",
   "execution_count": 13,
   "id": "6e0cbc92",
   "metadata": {
    "scrolled": true
   },
   "outputs": [
    {
     "name": "stdout",
     "output_type": "stream",
     "text": [
      "What is the subject's age? 0\n",
      "0\n"
     ]
    }
   ],
   "source": [
    "age=int(input(\"What is the subject's age? \"))\n",
    "if age <18 and age >0:\n",
    "    print(age, 'Minor')\n",
    "elif age >=18 and age <65:\n",
    "    print(age, 'Adult')\n",
    "elif age >=65:\n",
    "    print(age, 'Senior Citizen')\n",
    "else:\n",
    "    print(age)"
   ]
  },
  {
   "cell_type": "code",
   "execution_count": 10,
   "id": "3be14918",
   "metadata": {
    "scrolled": true
   },
   "outputs": [
    {
     "name": "stdout",
     "output_type": "stream",
     "text": [
      "65 : Senior Citizen\n",
      "78 : Senior Citizen\n",
      "34 : Adult\n",
      "56 : Adult\n",
      "12 : Minor\n",
      "9 : Minor\n",
      "43 : Adult\n",
      "67 : Senior Citizen\n"
     ]
    }
   ],
   "source": [
    "ages=[65,78,34,56,12,9,43,67]\n",
    "for age in ages:\n",
    "    if age <18:\n",
    "        print(age, ':', 'Minor')\n",
    "    elif age >=18 and age <65:\n",
    "        print(age, ':', 'Adult')\n",
    "    elif age >=65:\n",
    "        print(age, ':','Senior Citizen')"
   ]
  },
  {
   "cell_type": "code",
   "execution_count": null,
   "id": "68a92406",
   "metadata": {},
   "outputs": [],
   "source": []
  }
 ],
 "metadata": {
  "kernelspec": {
   "display_name": "Python 3 (ipykernel)",
   "language": "python",
   "name": "python3"
  },
  "language_info": {
   "codemirror_mode": {
    "name": "ipython",
    "version": 3
   },
   "file_extension": ".py",
   "mimetype": "text/x-python",
   "name": "python",
   "nbconvert_exporter": "python",
   "pygments_lexer": "ipython3",
   "version": "3.9.13"
  }
 },
 "nbformat": 4,
 "nbformat_minor": 5
}
